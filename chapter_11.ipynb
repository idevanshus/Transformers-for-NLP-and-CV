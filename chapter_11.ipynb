{
 "cells": [
  {
   "cell_type": "code",
   "execution_count": 1,
   "metadata": {},
   "outputs": [],
   "source": [
    "!pip install --upgrade nltk -qq\n",
    "import nltk"
   ]
  },
  {
   "cell_type": "code",
   "execution_count": 2,
   "metadata": {},
   "outputs": [
    {
     "name": "stderr",
     "output_type": "stream",
     "text": [
      "[nltk_data] Downloading package punkt to\n",
      "[nltk_data]     /Users/devanshusaindane/nltk_data...\n",
      "[nltk_data]   Unzipping tokenizers/punkt.zip.\n"
     ]
    },
    {
     "data": {
      "text/plain": [
       "True"
      ]
     },
     "execution_count": 2,
     "metadata": {},
     "output_type": "execute_result"
    }
   ],
   "source": [
    "nltk.download('punkt')"
   ]
  },
  {
   "cell_type": "code",
   "execution_count": 3,
   "metadata": {},
   "outputs": [],
   "source": [
    "!pip install gensim -qq"
   ]
  },
  {
   "cell_type": "code",
   "execution_count": 1,
   "metadata": {},
   "outputs": [
    {
     "name": "stdout",
     "output_type": "stream",
     "text": [
      "Note: you may need to restart the kernel to use updated packages.\n",
      "4.3.3\n"
     ]
    }
   ],
   "source": [
    "%pip install --upgrade numpy gensim -qq\n",
    "import gensim\n",
    "print(gensim.__version__)"
   ]
  },
  {
   "cell_type": "code",
   "execution_count": 3,
   "metadata": {},
   "outputs": [
    {
     "name": "stdout",
     "output_type": "stream",
     "text": [
      "  % Total    % Received % Xferd  Average Speed   Time    Time     Time  Current\n",
      "                                 Dload  Upload   Total   Spent    Left  Speed\n",
      "100  127k  100  127k    0     0   257k      0 --:--:-- --:--:-- --:--:--  256k\n"
     ]
    }
   ],
   "source": [
    "!curl -L https://raw.githubusercontent.com/Denis2054/Transformers-for-NLP-and-Computer-Vision-3rd-Edition/master/Chapter11/Descartes.txt --output \"Descartes.txt\""
   ]
  },
  {
   "cell_type": "code",
   "execution_count": 4,
   "metadata": {},
   "outputs": [],
   "source": [
    "with open('Descartes.txt', 'r') as file:\n",
    "    descartes_book = file.read().replace('\\n', '')"
   ]
  },
  {
   "cell_type": "code",
   "execution_count": 5,
   "metadata": {},
   "outputs": [],
   "source": [
    "# Tokenize the text with punkt"
   ]
  },
  {
   "cell_type": "code",
   "execution_count": 7,
   "metadata": {},
   "outputs": [
    {
     "name": "stderr",
     "output_type": "stream",
     "text": [
      "[nltk_data] Downloading package punkt_tab to\n",
      "[nltk_data]     /Users/devanshusaindane/nltk_data...\n"
     ]
    },
    {
     "name": "stdout",
     "output_type": "stream",
     "text": [
      "23605\n"
     ]
    },
    {
     "name": "stderr",
     "output_type": "stream",
     "text": [
      "[nltk_data]   Unzipping tokenizers/punkt_tab.zip.\n"
     ]
    }
   ],
   "source": [
    "from nltk.tokenize import word_tokenize\n",
    "import nltk\n",
    "nltk.download('punkt_tab')\n",
    "tokens = word_tokenize(descartes_book)\n",
    "print(len(tokens))"
   ]
  },
  {
   "cell_type": "code",
   "execution_count": 8,
   "metadata": {},
   "outputs": [],
   "source": [
    "#preprocess the tokens"
   ]
  },
  {
   "cell_type": "code",
   "execution_count": 9,
   "metadata": {},
   "outputs": [
    {
     "name": "stderr",
     "output_type": "stream",
     "text": [
      "[nltk_data] Downloading package stopwords to\n",
      "[nltk_data]     /Users/devanshusaindane/nltk_data...\n",
      "[nltk_data]   Unzipping corpora/stopwords.zip.\n",
      "[nltk_data] Downloading package wordnet to\n",
      "[nltk_data]     /Users/devanshusaindane/nltk_data...\n"
     ]
    }
   ],
   "source": [
    "nltk.download('stopwords')\n",
    "nltk.download('wordnet')\n",
    "from nltk.corpus import stopwords\n",
    "from nltk.stem import WordNetLemmatizer\n",
    "import string\n",
    "\n",
    "stop_words = set(stopwords.words('english'))\n",
    "lemmatizer = WordNetLemmatizer()\n",
    "\n",
    "tokens = [lemmatizer.lemmatize(token.lower()) for token in tokens if token.lower()]\n"
   ]
  },
  {
   "cell_type": "code",
   "execution_count": 10,
   "metadata": {},
   "outputs": [
    {
     "name": "stdout",
     "output_type": "stream",
     "text": [
      "23605\n"
     ]
    }
   ],
   "source": [
    "print(len(tokens))"
   ]
  },
  {
   "cell_type": "code",
   "execution_count": 11,
   "metadata": {},
   "outputs": [
    {
     "name": "stdout",
     "output_type": "stream",
     "text": [
      "3966\n"
     ]
    }
   ],
   "source": [
    "unique_tokens = set(tokens)\n",
    "print(len(unique_tokens))"
   ]
  },
  {
   "cell_type": "code",
   "execution_count": 12,
   "metadata": {},
   "outputs": [
    {
     "name": "stdout",
     "output_type": "stream",
     "text": [
      "{'crept', 'agreeably', 'ill-founded', 'choosing', 'higher', 'alluded', 'fortunately', 'insecure', 'wecould', 'eleven', 'except', 'barbarian', 'samecare', 'withouthaving', 'especially', 'infrench', 'wisdom', '_arteria', 'frequently', 'instant', 'limitedto', 'scrutinized', 'ofmy', 'regulate', 'thenatural', 'itseems', 'whoseexistence', 'cava_', 'theyare', '_vena', 'correspondent', 'quite', 'foundin', 'representing', 'usvery', 'size', 'custom', 'unwilling', 'bone', 'ofwhat', 'large', 'thepower', 'ruler', 'severalbuildings', 'deemed', 'throwing', 'feed', 'purpose', 'speech', 'nor', 'perpetual', 'havehad', 'acceptable', 'reduces', 'preposterous', 'flame', 'dull', 'enoughof', 'self', 'lead', 'infant', 'imaginethat', 'theremainder', 'thetreatise', 'admitted', 'quit', 'someother', 'geometer', 'keep', 'rigorous', 'scarcely', 'opportunityto', 'differ', 'theassurance', 'leaststriking', 'inadequate', 'imperfectionof', 'remarkable', 'with', 'indeed', 'ample', 'theirexistence', 'distilled', 'upon', 'stupid', 'mode', 'aswell', 'idea', 'altogether', 'solitary', 'embraced', 'free', 'inour', 'certainperfection', 'precipitate', 'battle', 'onewhom', 'particularly', 'settled', 'excel', 'inappearance', 'envy', 'memorable', 'obscure', 'internal', 'expressionto', 'only', 'greatestmoment', 'former', 'allow', 'fromtending', 'fellow', 'outby', 'loose', 'did', 'born', 'thence', 'wouldbe', 'planet', 'hear', 'honorable', 'real', 'produce', 'departed', 'reasoning', 'hurtfulness', 'incollecting', 'attainable', 'heatedvessel.for', 'taketowns', 'common', 'proceedsfrom', 'field', 'advancement', 'perfect', 'distinction', 'accident', 'cognizant', 'wasable', 'tolerable', 'happily', 'note', 'fermentation', 'mixed', 'apprehends', 'debility', 'architect', 'example', 'sanction', 'insuccessfully', 'wished', 'greatcrowd', 'remain', 'closely', 'fewer', 'concluding', 'room', 'bythem', 'myown', 'anywhich', 'picture', 'theydesire', 'employ', 'involved', 'eradicating', 'communis_', 'do.i', 'prosecuting', 'revered', 'lowly', 'inconstancy', 'less', 'wasnevertheless', 'arrangement', 'sight', 'incapacitate', 'awake', 'itcould', 'wonderful', 'delineate', 'trouble', 'managed', 'setthemselves', 'gathered', 'careful', 'handshad', 'myopinions', 'imaginable', 'forhow', 'asappositely', 'feebleconjectures', 'deceived', 'allege', 'conscious', ':', 'share', 'ihad', 'address', 'affect', 'learnedthem', 'idid', 'happens', 'joined', 'principlesof', 'converse', 'earnest', 'musthave', 'period', 'undergone', 'pulled', 'observance', 'enable', 'represent', 'ofwhich', 'ahappiness', 'meansof', 'off', 'path', 'income', 'accord', 'doubt', 'descend', 'explication', 'always', 'occurred', 'road', 'deed', 'ancientsonly', 'exclude', 'areputation', 'compel', 'thehouses', 'somewherein', 'respecting', 'unworthy.these', 'notengage', 'itself', 'amended', 'private', 'strives', 'lessinfluential', 'hisbeing', 'publicaffairs', 'deaf', 'bethe', 'withcertain', 'communicatedheat', 'noapology', 'innocently', 'also', 'excellent', 'orin', 'remote', 'unsound', 'weredependencies', 'return', 'basing', 'ibelieve', 'occur', 'appearing', 'determine', 'analchemist', 'satisfying', 'artisan', 'ofletters', 'old', 'observe', 'itwould', 'both', 'mental', 'cultivated', 'acertain', 'conviction', 'openness', 'whomi', 'thecircumstance', 'requesting', 'gratify', 'makingme', 'morecorrect', 'makewithout', 'todemonstrate', 'anypreceding', 'concurrence', 'diamond', 'thepores', 'compensated', 'logic', 'werecrimes', 'andnothing', 'present', 'clay', 'mighthave', 'proportionmake', 'suchevidence', ',', 'omitted.the', 'sure', 'hope', 'yellow', 'toseek', 'offable', 'travel', 'andbecause', 'practised', 'actively', 'intercourse', 'dreams.but', 'comparedwith', 'impressed', 'second', 'determining', 'deserts.part', 'equality', 'declared', 'discoverer', 'commander', 'greater', 'mereverisimilitude', 'talent', 'attain', 'happensthat', 'speculative', 'current', 'embellishment', 'itto', 'clearlyto', 'devoting', 'discovered', 'considerablelength', 'v', 'agree', 'falseall', 'application.part', 'theplays', 'islikewise', 'knew', 'iconfess', 'marked', 'mere', 'customary', 'extended', 'downwards', 'thisinquiry', 'vessel', 'employbeyond', 'artifice', 'clearly', 'returning', 'endeavored', 'turnwith', 'depend', 'generally', 'discoursing', 'avail', 'canconsume', 'thelowest', 'erectingit', 'distinctivelyconsists', 'establishment', 'creation', 'iexpound', 'forfeit', 'commencement', 'theplace', 'after', 'anddescending', 'comfort', 'acquisitioncannot', 'couldby', 'really', 'notto', 'exactlyeight', 'undisturbed', 'ofthemselves', 'owe', 'analogous', 'begin', 'stillfarther', 'toincreased', 'bind', 'muscle', 'thencearising', 'concealed', 'limited', 'adue', 'allowourselves', 'existence', 'heaped', 'heart.but', 'other.and', 'becompared', 'rest', 'daily', 'nowbeginning', 'betookme', 'commit', 'weabstain', 'highest', 'notobserved', 'independently', 'aperson', 'strange', 'follows', 'aright', 'mydesign', 'demonstrations.and', 'anyof', 'commencingwith', 'adequately', 'theliving', 'tomyself', 'power', 'ina', 'asnot', 'morally', 'arranged', 'foundprecisely', 'nature', 'cogito', 'enters', 'third', 'theirtruth.though', 'havingadopted', 'desiringfor', 'adifficulty', 'legitimately', 'holding', 'depth', 'supposing', 'partialto', 'them.the', 'best', 'ofindifference', 'force', 'visiting', 'ebb', 'allstrange', 'affair', 'whatever', 'my', 'perceiveanything', 'hopethose', 'grave', 'press', 'touched', 'notafterwards', 'binding', 'dictate', 'hasbeen', 'which', 'lessperfect', 'thetruth', 'compose', 'suffer', 'house', 'enjoyed', 'ofbeing', 'certitude', 'iscontained', 'aught', 'respectingthe', 'atthe', 'chineseor', 'close', 'food', 'operate', 'lully', 'realize', 'andveracious', 'magnificentpalaces', 'debated', 'unraveling', 'volume', 'admittedthat', 'areasleep', 'fact', 'highlydeserving', 'adhered', 'man', 'arrive', 'unable', 'wascrack-brained', 'discover', 'indestroying', 'itsproduction', 'notice', 'brought', 'possible', 'ourbodies', 'thereasons', 'sayon', 'nationswhich', 'appearance', 'proportion', 'pellicle', 'metaphysic', 'nutrition', 'himself', 'formula', 'thus', 'speaking', 'had', 'andthereby', 'designed', 'philosophy', 'pleased', 'knowhow', 'inappropriately', 'contract', 'reasonsthat', 'thehighest', 'infinite', 'expected', 'tointerest', 'necessary', 'attributable', 'byhuman', 'certaintracks', 'notion', 'condition', 'ofevery', 'reformation', 'science', 'isright', 'shortly', 'believewill', 'arerequired', 'advise', 'enabled', 'singlyon', 'ennui', 'solutionsof', 'becauseit', 'unless', 'ofpoetry.i', 'erect', 'disputeamong', 'neighborhood', 'order', 'certainly', 'because', 'onhand', 'correct', 'thatif', 'down', 'consequent', 'whichthey', 'ornament', 'like', 'sun', 'philosopher', 'province', 'objectthey', 'trulyvaluable', 'ifthere', 'belonging', 'toadopt', 'become', 'tube', 'belief', 'utter', 'sofull', 'short', 'designated', 'prescribe', 'troop', 'falling', 'chain', 'heavenssince', 'narrowly', 'heavenly', 'constructing', 'endowed', 'shut', 'skin.i', 'insuch', 'consequently', 'by', 'any', 'perhapsmore', 'mineral', 'noother', 'china', 'day', 'mymind', 'inducevarious', 'therefrom', 'ten', 'labour.it', 'cognizance', 'frequented', 'projecting', 'isestablished', 'value', 'doubtless', 'asregards', 'event', 'notwith', 'fashionwhich', 'ornotions', 'been', 'surpass', 'reformer', 'thissingle', 'position', 'theperusal', 'prof', 'thefirst', 'determined', 'notbeen', 'sometaphysical', 'aberration', 'described', 'but', 'invention', 'whole', 'essence', 'smoothed', 'we', 'devoted', 'doubting', 'wont', 'samematter', 'rendering', 'many', 'enough', 'werein', 'artery', 'beentaught', 'ofpreference', 'beenalready', 'slightest', 'vivid', 'fromsuch', 'using', 'todetermine', 'theperfect', 'avigorous', 'strove', 'thousand', 'commonly', 'ventured', 'external', 'set', 'togood', 'crime', 'consisted', 'compelled', 'restricted', 'improvement', 'extend', 'hurt', 'branch', 'planned', 'comprisein', 'sufficientknowledge', 'surgeon', 'theextent', 'realization', 'thanit', 'variety', 'desires.in', 'investigated', 'toour', 'center', 'whose', 'proof', 'appetite', 'incite', 'discipline', 'inproportion', 'superfluous', 'imposture', 'confirmation', 'not', 'combatant', 'perfectfrankness', 'resolutionnever', 'fight', 'differencebetween', 'entering', 'realized', 'admiration', 'ofphilosophizing', 'thataccount', 'largest', 'examined', 'engaged', 'theproperties', 'judging', 'expandbefore', 'practical', 'manyminds', 'friend', 'circumstanced', 'neverobserved', 'raising', 'failed', 'publisher', '_last_', 'smell', 'thinking', 'reference', 'forth', 'guard', 'modesty', 'forwarding', 'ago', 'expound', 'thatthe', 'commencing', 'issuing', 'theirdisposal', 'incredible', 'notremain', 'amiss', 'notwithstanding', 'thatwe', 'termination', 'without', 'am', 'isobservable', 'reflected', 'gold', 'thesame', 'time', '\\ufeffdiscourse', 'weknow', 'imagine', 'inclination', 'inaddition', 'averse', 'foundation', 'acquired', 'act', 'itselfsufficient', 'mightmyself', 'critic', 'yet', 'generalrule', 'presentlydisperse', 'successfully', 'sightpresents', 'thusconstitute', 'theircultivators', 'adequatesolution.the', 'vulgar', 'your', 'restwas', 'falserather', 'unacquainted', 'built', 'saw', 'benefit', 'mydesires', 'isimpossible', 'arise', 'conceive', 'dismisssummarily', 'ivi', 'incumbent', 'chief', 'him', 'thereby', 'excellence', 'competently', 'do', 'satisfy', 'leave', 'thatphilosophy', 'opposition', 'whichi', 'infallibly', 'machine', 'incapable', 'mind', 'mankind', 'abridged', 'thereafter', 'fewdisposed', 'contented', 'confused', 'business', 'hadnot', 'preclude', 'growing', 'metal', 'communication', 'tothink', 'wellseize', 'anddistinguishes', 'effectsthat', 'rich', 'thefall', 'impossible', 'studiedinterview', 'nopains', 'oneby', 'abundantly', 'regret', 'appear', 'digressionat', 'birth', 'a', 'us', 'occasioned', 'withoutby', 'species.i', 'ledto', 'wise', 'avery', 'maintained', 'indiscriminate', 'itfor', 'conclude', 'source', 'work', 'bird', 'poor', 'teaching', 'advance', 'andi', 'thanin', 'chose', 'thefalsehood', 'eminently', 'resolvedto', 'byagain', 'absolutely', 'vocable', 'duty', 'ourjudgments', 'mytime', 'comprehend', 'thanmyself', 'youwill', 'inreality', 'ithappened', 'durationof', 'fromcurrent', 'onthe', 'recently', 'particular', 'accorded', 'vein', 'command', 'byremaining', 'dependency', 'morelikely', 'how', 'conflicting', 'discovery', 'takenupon', 'fresh', 'respirationis', 'themonly', 'equal', 'conclusion', 'ithought', 'tranquillity', 'fairlybe', 'tocommon', 'boasted', 'thedisputations', 'preceding', 'observedthat', 'accompanied', 'draw', 'similar', 'aconclusion', 'weneither', 'ofblood', 'exhibited', 'esteemedfriends', 'once', 'lost', 'theireffects', 'guided', 'irequest', 'properly', 'orderly', 'simplest', 'various', 'spontaneously', 'iought', 'onimaginations', 'showed', 'process', 'matter', 'again', 'ascertain', 'travelvery', 'open', 'these', 'bear', 'andoutward', 'out', 'book', 'continued', 'understanding', 'air', 'contains', 'france', 'memore', 'criterion', 'increase', 'versed', 'truly', 'render', 'then', 'assuredly', 'physical', 'thesense', 'mostconvenient', 'author', 'remained', 'worldnor', 'physic', 'logician', 'mybusiness', 'itsbranches', 'themathematicians', 'easily', 'governed', 'preserve', 'sinceit', 'introduced', 'drawn', 'bring', 'superior', 'arithmetic', 'learning', 'istrue', 'mine', 'busied', 'express', 'thespeculative', 'whyshould', '.', 'england', 'andthe', 'educed', 'itselfall', 'onlymention', 'whichof', 'gave', 'anddilated', 'incertitude', 'suffering', 'intellect', 'long', 'manyrefined', 'such.my', 'andif', 'fromthe', 'expresslydevoted', 'placesalong', 'toemploy', 'intelligible', 'be', 'toany', 'at', 'place', 'produced', 'tonature', 'ant', 'judges.as', 'diana', 'sand', 'thedifficulties', 'graduallyinto', 'chosen.after', 'differentmodes', 'lettersin', 'rebuild', 'usually', 'probably', 'hollow', 'goodness', 'whengiven', 'fictitious', 'alone.it', 'two', 'mutually', 'understandingintervene.finally', 'move', 'recourse', 'mygrand', 'viprefatory', 'currently', 'myignorance', 'than', 'lose', 'fancy', 'ourpartial', 'sink', 'corporeal', 'eager', 'wall', 'valve', 'withdrawn', 'lessen', 'sixprincipal', 'particularspecimens', 'glowing', 'ametaphysical', 'expand', 'gratification', 'adopted', 'fame', 'town', 'straightened', 'code', 'proceedmuch', 'naturesand', 'height', 'conducting', 'i', 'seriously', 'brute', 'withoutdoubt', 'arrangeitself', 'kind', 'mouth', 'removed', 'inholding', 'arrested', 'theirimagination', 'alter', 'thatyet', 'genius', 'plain', 'reforming', 'well-nigh', 'limit', 'myself', 'notanticipating', 'neverafterwards', 'different', 'easiest', 'content', 'circumspect', 'too', 'fivesmall', 'incomparable', 'ice', 'exists', 'another', 'forced', 'accomplished', 'building', 'sens', 'fallbelow', 'another.if', 'remainignorant', 'thecontrary', 'experiment', 'iwould', 'tohinder', 'interruption', 'foundationsthat', 'full', 'description', 'slight', 'misrepresent', 'conformably', 'promoted', 'college', 'thatjurisprudence', 'city', 'roam', 'andin', 'firmer', 'forestall', 'wouldhappen', 'crookedness', 'bycommon', 'mexico', 'theexperiments', 'available', 'repugnant', 'howit', 'lesswise', 'hadsufficiently', 'rejected', 'thinkit', 'ill', 'demonstration', 'interview', 'strivesfor', 'labour', 'andharmony', 'fromanother', 'along', 'need', 'themore', 'fromthis', 'culture', 'toovain', 'speculation', 'entertainprojects', 'joining', 'arteriosa_', 'iwere', 'thatthere', 'reader', 'theschools', 'clearof', 'simultaneouslywith', 'triangle', 'first', 'called', 'search', 'leaving', 'natureis', 'beprophets', 'thank', 'finger', 'thanany', 'retain', 'organ', 'allothers', 'lodged', 'meanspermit', 'thansimply', 'evidence', 'essential', 'succeed', 'atall', 'areso', 'regard', 'turn', 'became', 'on', 'make', 'notunderstand', 'establishes', 'thetrouble', 'asdifficult', 'naturemore', 'treat', 'institution', 'ease', 'hidden', 'obey', 'change', 'giverise', 'alreadyhad', 'largeanimal', 'foresee', 'anticipating', 'elevate', 'ashorter', 'windpipe', 'is.after', 'lung', 'derive', 'powers.i', 'clearlysaw', 'possessedgreater', 'err', 'manifested', 'although', 'sphere', 'vice', 'tounderstand', 'freedom', 'emits', 'forsakeit.for', 'compared', 'someexperience', 'adopt', 'turned', 'somebeing', 'love', 'explainit', 'forotherwise', 'sketch', 'finallyon', 'donot', 'thesearch', 'tosteer', 'whoseutility', ';', 'perfection', 'end', 'remains', 'anatomy', 'greatartery', '”', 'pas', 'omniscient', 'extremity', 'thoughtsunderstood', 'face', 'movementsperformed', 'fail', 'mechanic', 'whichwe', 'spectator', 'lowerdegree', 'bodiesthat', 'diversity', 'now', 'however', 'thisindividual', 'this', 'doubtful', 'buthinder', 'repentings', 'irresolute', 'ofsmell', 'infrequently', 'subject', 'thoseeven', 'ishould', 'itbut', 'immediately', 'thereto', 'imagination', 'esteemed', 'onewhich', 'described.but', 'thearteries', 'havealleged', 'future', 'arrangementfor', 'truthsof', 'block', 'beadduced', 'feebleresolution', 'enjoy', 'whence', 'aside', 'tobelieve', 'meteorics', 'unknown', 'distinguished', 'extravagancein', 'speakingmyself', 'ridiculous', 'certainthat', 'music', 'attributed', 'plurality', 'isnecessary', 'sends', 'applicable', 'thingmanifestly', 'willnot', 'chimaera', 'liberty', 'myinclination', 'commerce', 'capable', 'passage', 'mostfaithful', 'hesitating', 'decided', 'previously', 'venture', 'support', 'provided', 'ofnature', 'employed', 'iwas', 'delusion', 'comprise', 'laud', 'next', 'religion', 'havealready', 'gather', 'andsuch', 'thither', 'push', 'hole', 'thoseancient', 'oftheir', 'test', 'differentsituations', 'instance', 'convincedthat', 'color', 'feel', 'addition', 'beauty', 'straitness', 'somany', 'quitecertain', 'preparation', 'knowledge', 'diver', 'prolonged', 'heed', 'passesthrough', 'show', 'adding', 'clear', 'theother', 'compensate', 'strip', 'danger', 'befound', 'bewell', 'generalconsent', 'reach', 'approved', 'ingenuity', 'wascalled', 'mindwhen', 'observableamong', 'toopinion', 'theirmind', 'seeother', 'taking', 'tree', 'latin', 'others', 'doesthe', 'mecontented', 'containsindeed', 'threw', 'observes', 'revise', 'circle', 'recognized', 'detached', 'whichshould', 'seclusion', 'prevent', 'commodious', 'tested', 'master', 'whereas', 'virtue', 'expresslysupposed', 'opposed', 'amongother', 'ofdestroying', 'confidence.it', 'beenhappy', 'becoming', 'moderately', 'fully', 'dioptrics', 'satisfaction', 'personally', 'thisprocess', 'heat', 'object', 'for', 'wehave', 'immutable', 'withoutexamination', 'wasnot', 'scruple', 'blind', 'particularsciences', 'itsreflux', 'ideasmight', 'trust', 'refuted', 'party', 'certainothers', 'weight', 'foster', 'thisopinion', 'greatly', 'beyond', 'therest', 'fall', 'thedifferent', 'request', 'orpassions', 'andcorporeal', 'rarefies', 'disciple', 'public', 'heated', 'iscomposed', 'astrologer', 'appointment', 'ground', 'shutup', '“', 'distinguishtrue', 'designs.of', 'wherethey', 'defray', 'window', 'bottom', 'dependence', 'toentertain', 'unfolds', 'muchinterested', 'obliges', 'havebeen', 'immemorial', 'acknowledge', 'them.i', 'fill', 'having', 'inexistence', '_first_', 'intense', 'orexaggerate', 'few', 'prejudicial', 'thefeet', 'spirit', 'thoughtthat', 'quitted', 'arecommonly', 'beenheld', 'smoke', 'tosuch', 'fashion', 'legislator', 'contained', 'willing', 'originally', 'variousrelations', 'tothis', 'seek', 'tome', 'desireof', 'calculated', 'thesmall', 'anextent', 'germanyexhibits', 'upheld', 'allegedby', 'dreaded', 'ended', 'fly', 'wholeremainder', 'attentive', 'suchreflection', 'presentation', 'theresidue', 'requiring', 'getting', 'predominant', 'lifein', 'areendowed', 'resolved', 'thebrain', 'slightaccount', 'unwavering', 'belonged', 'generation', 'performance', 'utility', 'livingthenceforward', 'traverse', 'myoriginal', 'wasequally', 'init', 'affords', 'function', 'sciencesby', 'insensibly', 'universal', 'theheart', 'physicsmight', 'meditation', 'honor', 'continually', 'cut', 'transposed', 'whether', 'defect', 'expelled', 'prevented', 'imperfection', 'undoubtedly', 'desirous', 'course', 'moreeasily', 'tothrow', 'credit', 'allthose', 'perforated', 'thesoul', 'resembling', 'kingdom', 'ofarithmetic.but', 'gift', 'thedisquisitions', 'mustinevitably', 'or', 'andreadiness', 'bereceived', 'ergo', 'happened', 'promise', 'veryfirst', 'faithfully', 'begun', 'convert', 'thecertitude', 'wepossess', 'lawsof', 'impotency', 'theextremities', 'inducement', 'mechanical', 'seldom', 'wishing', 'must', 'embarrass', 'thesecond', 'brief', 'fertile', 'material', 'anduseless', 'yearsto', 'apart', 'noreason', 'promisesby', 'seeking', 'scarcelyone', 'andreviews', 'extraordinary', 'thefood', 'forest', 'presently', 'uncertain', 'handsome', 'uncertainty', 'promptitude', 'art', 'depended', 'true.but', 'all.from', 'separate', 'naturesthat', 'exceed', 'truefrom', 'orthat', 'convict', 'stomach', 'expressly', 'intelligibly', 'evenidiots', 'tends', 'husbandthe', 'haveproceeded', 'successful', 'doaught', 'necessarily', 'project', 'morallypossible', 'considered', 'parricide.i', 'isnothing', 'known', 'moreimportant', 'itmatter', 'counseled', 'through', 'successivelydetermined', 'fundamentally', 'sinninggrievously', 'perhaps', 'andhe', 'sensation', 'readily', 'compass', 'lentit', 'scrutinyof', 'indicate', 'overcurious', 'coat', 'evenstill', 'inthe', 'deny', 'about', 'fallacy', 'recondite', 'piece', 'execute', 'hour', 'placed', 'quitewilling', 'wassingly', 'succeeded', 'falsityis', 'becalled', 'declaration', 'someare', 'confess', 'trial', 'breatheenters', 'heaven', 'think', 'wasenabled', 'whichwind', 'infer', 'threemonths', 'his', 'inventing', 'fulfill', 'exist', '_third_', 'fromgod', 'commence', 'alreadypossess', 'thuscould', 'despair', 'toput', 'memory', 'beknown', 'inmaking', 'hypothesis', 'distinguishing', 'proceeds', 'heartby', 'newblood', 'jaundice', 'represented', 'ourreason', 'whilereason', 'part', 'venous', 'furnished', 'truth', 'evident', 'patience', 'juice', 'tobind', 'retirement', 'oncein', 'astray', 'andpossessors', 'security', 'theremust', 'age', 'nourishment', 'noughtbecause', 'oreven', 'conception', 'seeknothing', 'tomy', 'betake', 'camenext', 'sparta', 'onlythat', 'itappears', 'theirconduct', 'feigned', 'life.but', 'sea', 'single', 'commonconsent', 'cooled', 'innocent', 'sleep', 'fearing', 'treating', 'toshow', 'remaining', 'passed', 'fordoubtless', 'thiswork', 'member', 'conduce', 'conduct', 'greatefficacy', 'soon', 'given', 'above', 'confessed', 'easilyknown', 'educatedfrom', 'distinctidea', 'amongtheologians', 'observable', 'wheels.but', 'proceeding', 'able', 'thecircumstances', 'mark', 'considerationssufficient', 'notless', 'aid', 'intensity', 'liability', 'thepublic', 'wheel', 'straight', 'througha', 'meddler', 'merelyhaving', 'effect', 'guarantee', 'acquisition', 'already', 'acquire', 'assurancethat', 'havefollowed', 'indubitable', 'samewith', 'theprogress', 'makingchoice', 'finished', 'language', 'seemedto', 'referring', 'toerror', 'enables', 'teach', 'use', 'lived', 'soslowly', 'incessantlywith', 'below', 'society', 'precipitancy', 'reached', 'andgeneral', 'truthon', 'doing', 'theevidence', 'pointed', 'leading', 'assist', 'demonstrating', 'safely', 'fountain', 'harder', 'werefrequently', 'hadformerly', 'hadset', 'manyother', 'suchknowledge', 'expandsthey', 'supposed', 'necessityflows', 'overcome', 'none', 'moved', 'collectively', 'notpresume', 'dream', 'just', 'sixsmall', 'itwere', 'thatwas', 'lessin', 'each', 'rendermyself', 'reflecting', 'likely', 'actionof', 'everything', 'exactly', 'savemyself', 'imaginehimself', 'suffers', 'amdesirous', 'prime', 'doctrine', 'twenty', 'probable', 'penetrates', 'hisintellect', 'whichalone', 'under', 'ofstudy', 'simple', 'thepre-eminence', 'exceedingly', 'allmanner', 'theimmense', 'drivenaside', 'toknow', 'theacquisition', 'applied', 'paralogism', 'brittany', 'want', 'expounded', 'beyondour', 'exercising', 'althoughsuch', 'health', 'possessed', 'whatis', 'changing', 'celebrated', 'weclearly', 'thoughtswe', 'generaltruths', 'motionto', 'cave', 'refuse', 'other', 'descartescontents', 'ofthe', 'conjecture', 'method', 'patient', 'tobe', 'childhood', 'life', 'fix', 'line', 'effected', 'abundance', 'ofhuman', 'soearly', 'anythingon', 'odor', 'resultsan', 'reasonthat', 'latter', 'bad', 'asin', 'laid', 'whollyperfect', 'importance', 'itsadjuncts', 'specially', 'theformer', 'portion', 'court', 'luminous', 'high', 'resolute', 'fittest', 'general', 'insteadof', 'willbe', 'immoderately', 'rightly', 'arefarther', 'character', 'manifestmore', 'resemble', 'engage', 'operation', 'bythe', 'afford', 'asked', 'conformation', 'created', 'appeared', 'itssenses', 'withoutinterruption', 'larger', 'morepowerful', 'kindling', 'iii', 'thusthought', 'imaginary', 'theprincipal', 'right', 'be.but', 'armiesmaintained', 'warmth', 'thesethings', 'findingthemselves', 'ofbodies', 'exalted', 'andto', 'went', 'borrow', 'hostile', 'scorn', 'whichgeometers', 'pouchesdenominated', 'thesciences', 'sadness', 'examination', 'impediment', 'greaterand', 'geometrical', 'onexamination', 'zeal', 'surpassed', 'fromso', 'established', 'ourpower', 'bybeing', 'rearedon', 'rigidly', 'embrace', 'matteraccording', 'mature', 'theoccupations', 'farther', 'nine', 'arterythat', 'justifythe', 'hitherto', 'remove', 'convinced', 'chinese', 'verisimilitude', 'notusually', 'circulation', 'oftenwished', 'interest', 'withwhich', 'consists', 'strive', 'anydeterminate', 'haveadopted', 'theycan', 'faith', 'disposed', 'illusion', 'industry', 'defense', 'hadreceived', 'verystrong', 'individual', 'dubious', 'contributed', 'todoubt', 'nothing', 'ofmind', 'consequentlyto', 'exposition', 'smallness', 'provision', 'escape', 'clearer', 'authorif', 'either', 'judicious', 'advantage', 'pleasure', 'anddistinctly', 'anddistinct', 'materially', 'offend', 'tosever', 'is', 'ofsuccess', 'thequestions', 'cynic', 'quickly', 'hasdetermined', 'hand', 'nomeans', 'intelligent', 'equidistance', 'moving', 'andintelligible', 'middle', 'composite', 'thusconnecting', 'wereany', 'study.those', 'divide', 'reasonable', 'strong', 'positionthan', 'syllogism', 'profit', 'unfit', 'repeatedmeditation', 'iti', 'comparison', 'graduallyaugmenting', 'oneplace', 'abovedoubt', 'naturefrom', 'anddreams', 'loftiersuperstructure', 'ofvalue', 'fruit', 'service', 'thething', 'special', 'romance', 'extent', 'diffused', 'inequality', 'carefully', 'theblood', 'excuse', 'subjoin', 'whomake', 'freely', 'preference', 'theprinciples', 'difficult', 'false', 'principal', 'parrot', 'ourselves', 'abundantlyestablishes', 'timewithout', 'early', 'thatof', 'themajority', 'andremarked', 'seems', 'cause', 'desirousof', 'sufficientclearness', 'prediction', 'onward', 'all', 'fullness', 'elegant', 'byway', 'highly', 'marble', 'bebelieved', 'blood', 'isthat', 'situated', 'thismatter', 'wasprescribed', 'dispute', 'thoseexperiments', 'people', 'thoseplaces', 'come', 'grand', 'ourdreams.part', 'follower', 'sky', 'infine', 'choice', 'cultivation', 'antecedence', 'subsisting', 'foundmyself', 'sin', 'entrance', 'from', 'anyone', 'discriminatethe', 'thearterial', 'distinctlyconceive.in', 'contrarythat', 'tosuppose', 'erection', 'lie', 'ancient', 'presupposethe', 'architecthas', 'advert', 'infancy', 'offer', 'glory', 'forthe', 'happen', 'hadestablished', 'composethese', 'attempting', 'stored', 'acquaintance', 'lessastonished', 'inconvenience', 'theyreflect', 'concatenation', 'led', 'disordered', 'passion', 'wewish', 'issome', 'mislead', 'differentcharacter', 'fromextremes', 'totake', 'last', 'true', 'therefore', 'beadded', 'moment.i', 'essaying', 'mostpopulous', 'ofimagination', 'admirablethan', 'star', 'condemned', 'thoroughlyascertained', 'mingled', 'consideration', 'advancing', 'animated', 'midst', 'deprived', 'thereforesuppose', 'made.but', 'thestudy', 'defend', 'cannotperceive', 'small', 'isspontaneously', 'otherhand', 'avow', 'newdemonstration', 'ofthinking', 'inwith', 'confusedly', 'hindered', 'tend', 'iv', 'our', 'tale', 'specie', 'believethat', 'partly', 'impaired', 'omit', 'justice', 'sceptic', 'else', 'their', 'more', 'inone', 'knowledgeof', 'inparticular', 'respect', 'existent', 'intooperation', 'authority', 'professional', 'worthsufficiently', 'lesteither', 'warmerimmediately', 'haveyet', 'disturb', 'coming', 'here', 'allowed', 'likewise', 'likemanner', 'improve', 'intoas', 'sound', 'superstructure', 'willprobably', 'bringing', 'asummary', 'where', 'andthat', 'circumstance', 'when', 'wa', 'crowd', 'othersuse', 'delight', 'persuadedof', 'lifetime', 'subsequent', 'alreadymade', 'assigning', 'carrythem', 'sustains', 'opento', 'tothat', 'theknowledge', 'good', 'made', 'resulted', 'accrue', 'tended', 'peace', 'thoroughly', 'perusal', 'into', 'amconfident', 'eitherless', 'case', 'further', 'ofmathematical', 'rené', 'way', 'abandon', 'advanced', 'essayed', 'highway', 'livewithout', 'itmost', 'necessarilyequal', 'naturally', 'run', 'passingthrough', 'todistinguish', 'permission', 'tie', 'whati', 'apprehension', 'imitated', 'byamassing', 'four', 'accordance', 'instructor', 'dumb', 'accepting', 'deceived.but', 'losing', 'care', 'ship', 'six', 'contemplate', 'isimpelled', 'professto', '_sensus', 'discern', 'togive', 'rumored', 'whathas', 'form', 'straightway', 'icontinued', 'isupposed', 'proportionto', 'passing', 'officer', 'mostdifficult', 'thismoment', 'thesereasons', 'head', 'farthest', 'itbest', 'printer', 'posterity', 'ivywhich', 'beginning', 'accomplishment', 'greatest', 'can', 'butobserving', 'whereit', 'up', 'solution', 'wish', 'generated', 'manywho', 'commenced', 'othershad', 'anyclear', 'enabling', 'waspresented', 'shown', 'employment', 'closedwith', 'tosay', 'coronation', 'poverty', 'thoughtwas', 'perfectlysufficient', 'semi-barbarous', 'though', 'tospeak', 'considerable', 'toits', 'arterial', 'connected', 'ihave', 'werecarefully', 'itmust', 'indefinitely', 'ascend', 'intention', 'bybinding', 'demand', 'dress', 'moralist', 'occupation', 'permit', 'employing.my', 'thing', 'mediocrity', 'meto', 'oldfoundations', 'angle', 'andprejudice', 'hearsay', 'expense', 'loss', 'hunger', 'trunk', 'eye', 'folly', 'thehouse', 'rough', 'constantly', 'whomalone', 'thanfrom', 'sodoubtful', 'precisely', 'thanfortune', 'sometimes', 'preceptsgave', 'pertains', 'comprehension', 'flow', 'possession', 'presented', 'figure', 'socomplete', 'faculty', 'adheringfirmly', 'accurately', 'reckoned', 'iam', 'wholeheart', 'viewsprevents', 'compositionis', 'penetrating', 'constrained', 'multitude', 'ofgood', 'communicate', 'accomplish', 'deteriorate', 'thecommon', 'hadsome', 'thosewhich', 'duly', 'easilycommunicate', 'theablest', 'thefacility', 'haveventured', 'detect', 'iiiand', 'toproceed', 'indicated', 'independentof', 'falselyrepresented', 'task', 'towhich', 'aprecise', 'boastof', 'conveniently', 'thesepellicles', 'transmutation', 'givensome', 'removal', 'tobuild', 'self-instruction', 'repassing', 'amquite', 'thati', 'teachthat', 'aspired', 'beforehand', 'doalso', 'mistaken', 'thanto', 'mountain', 'reallysuch', 'carry', 'reproach', 'amultitude', 'theopinions', 'fifth', 'eternal', 'wiser', 'iron', 'followed', 'andanticipation', 'them', 'exact', 'thinner', 'sought', 'forgetfulness', 'useful', 'country', 'inquiry', 'requisite', 'inasmuch', 'system', 'astonished', 'noted', 'knewsome', 'obtain', 'ourartisans', 'forming', 'entitled', 'gone', 'are', 'ruin', 'meantime', 'that', 'fundamental', 'consequence', 'community', 'manifestly', 'receives', 'image', 'objection', 'securely', 'frequent', 'blessing', 'throughout', 'better', 'surround', 'pursuit', 'toextract', 'advantageously', 'theexistence', 'point', 'sense', 'distinctly', 'injurious', 'doubted', 'singleindividual', 'torepose', 'principlesborrowed', 'todiscover', 'considering', 'occupationthan', 'wouldacquire', 'conformed', 'adherence', 'perceiving', 'committing', 'suspected', 'letter', 'bynature', 'mathematics', 'doubt.the', 'step', 'said', 'sameway', 'reply', 'thebriefest', 'lend', 'byanother', 'maybe', 'shall', 'anywhere', 'fluid', 'toinduce', 'shun', 'solely', 'suffrage', 'convenience', 'survive', 'bodiesincorruptible', 'interlaced', 'thereasonings', 'hurtful', 'sheet', 'occupy', 'impress', 'vast', 'truthand', 'explained', 'difference', 'oursenses', 'persuadedthat', 'opposite.my', 'profess', 'whentheir', 'oftruths', 'instruction', 'traveler', 'judged', 'rob', 'publishing', 'resultis', 'mathematicaldifficulties', 'amwhat', 'duration', 'agitated', 'offstill', 'questionsbelonging', 'judgment', 'allother', 'guitar', 'ofgreatly', 'yield', 'theworld', 'something', 'undertaking', 'learn.but', 'hardens', 'havestudied', 'toevery', 'abundant', 'ligature', 'there', 'imight', 'prefer', 'completed', 'element', 'ventricle', 'thetropics', 'toaught', 'overlooked', 'war', 'direct', 'till', 'measure', 'idaily', 'anarrangement', 'indescribing', 'acquiring', 'assistance', 'defeat', 'diversityof', 'thanthe', 'nonethat', 'control', 'thehuman', 'pouch', 'preservation', 'reflection', 'aughtexcept', 'hadbeen', 'whichthe', 'venosa_', 'probability', 'diverse', 'allliquors', 'ape', 'bymachines', 'might', 'powers.among', 'thequestion', 'waking', 'objectswhich', 'theadvantages', 'poet', 'intimately', 'inanimate', 'space', 'accuracy', 'manner', 'give', 'themselves', 'fantasy', 'firstand', 'class', 'why', 'united', 'sufficient', 'generality', 'ornatures', 'painter', 'depreciate', 'isimmortal.part', 'left', 'isincomparably', 'minerva', 'thesequalities', 'powerful', 'leisurewithout', 'thereason', 'excludeentire', 'victim', 'inhabitant', 'word', 'hehad', 'so', 'dividedinto', 'attaining', 'previous', 'approve', 'interested', 'ofmorals', 'wouldconduce', 'cultivate', 'planetsand', 'preferable', 'infinity', 'commended', 'unite', 'couldhave', 'solelyfrom', 'vow', 'contented.having', 'areyet', 'quarter', 'icall', ')', 'infirm', 'clock', 'distinctness', 'andincredible', 'lively', 'wine', 'lattercurrent', 'native', 'exclusively', 'should', 'judgmentsand', 'spent', 'smallest', 'ageappeared', 'resolution', 'toawaken.it', 'sunand', 'senseor', 'havealso', 'ofreputation', 'conversation', 'becomealways', 'hay', 'apt', 'me', 'proving', 'whichfrequently', 'he', 'possessing', 'continuous', 'supreme', 'carried', 'company', 'substance', 'thenoblest', 'instrument', 'rid', 'very', 'bearing', 'ordinance', 'instructed', 'uncommon', 'simply', 'live', 'propriety', 'otherqualities', 'texture', 'beenguided', 'elementsof', 'opposite', 'compliment', 'conceal', 'entertainingsuch', 'lest', 'almostnothing', 'overlook', 'andbusy', 'inspeaking', 'came', 'revealedtruths', 'instead', 'will', 'inthis', 'search.in', 'carei', 'wasgiven', 'abefitting', 'almost', 'savage', 'himselfwho', 'bestow', 'ha', 'reflect', 'iremarked', 'ownaffairs', 'stimulate', 'uneasiness', 'attention', 'describethe', 'approvedof', 'thegreat', 'containingall', 'extricated', 'participate', 'top', 'adapted', 'somenature', 'endeavoring', 'weighing', 'provisorycode', 'association', 'founded', 'ournot', 'moreperfect', 'inorder', 'oughtrather', 'thewar', 'outof', 'moral', 'otherwise', 'themeans', 'required', 'stronger', 'orderto', 's', 'permissible', 'littleand', 'theirmotion', 'fictitioustitles', 'anyobjections', 'aware', 'deem', 'beyondthese', 'bothat', 'improvement.for', 'anaggregate', 'procedure', 'withknowing', 'butyet', 'between', 'taught', 'clearness', 'great', 'myreasonings', 'touching', 'theopening', 'twenty-three', 'theligature', 'otherwords', 'living.for', 'questioncontained', 'asmy', 'cast', 'shouldhave', 'personto', 'maxim', 'whom', 'privatebuildings', 'anerror', 'lawsin', 'pulling', 'varied', 'oneis', 'defer', 'andweights', 'considerationstouching', 'byno', 'call', 'persevere', 'plant', 'readilypermit', 'you', 'bestgoverned', 'anythingmore', 'prudence', 'wholly', 'greaterperfection', 'yet-the', 'themhypotheses', 'fromknowledge', 'one', 'beingpossible', 'chance', 'condemn', 'believed', 'seen', 'refrain', 'earlier', 'esteemthem', 'lay', 'distributed', 'thefavors', 'formerly', 'arteryinto', 'andthough', 'igradually', 'longer', 'howeverextravagant', 'state', 'becomesuch', 'sieve', 'transmit', 'canever', 'victory', 'have', 'before', 'ardently', 'certainparts', 'liquid', 'rendered', 'to', 'discourse.for', 'saying', 'deducing', 'vicious', 'hence', 'ledme', 'spoken', 'ascending', 'discriminating', 'asingle', 'treated', 'havingbroken', 'thatmagpies', 'as-hot', 'stand', 'inference', 'soul', 'shaking', 'notin', 'select', 'ceased', 'of', 'roomof', 'investigation', 'worthyof', 'arereal', 'seem', 'term', 'person', 'sufficientto', 'deduced', 'arenot', 'thateverything', 'consideredthat', 'virtuous', 'spend', 'littlecopper', 'extentconfused', 'anglesis', 'smaller', 'inquire', 'theaggregate', 'done', 'draft', 'accustomed', 'copiously', 'coulddigestion', 'may', 'issue', 'descended', 'convertsthe', 'tongue.in', 'theconsciences', 'rock', 'it', 'requires', 'blamed', 'contribute', 'ordinary', 'earthlypreferments', 'booksthat', 'beingmore', 'mean', 'chiefly', 'existing', 'thought', 'ifthey', 'doe', 'gradually', 'stayed', 'toenable', 'precaution', 'represents', 'demonstrated', 'isto', 'farprosecuted', 'tocensure', 'walking', 'understand', 'reared', 'inrelation', 'inwhich', 'every', 'sothat', 'subsist', 'bound', 'added', 'ormore', 'some', 'reachinghigh', 'thisaccount', 'imitating', 'much', 'attempt', 'child', 'candeclare', 'completely', 'understood', 'explain', 'written', 'avariety', 'presence', 'rhetoric', 'principaldifficulties', 'auricle', 'agreeable', 'inthus', 'clearlyknow', 'west', 'secret', 'describe', 'itforms', 'modern', 'studying', 'success', 'enjoymore', 'hamper', 'stage', 'tract', 'wrong', 'opinionsin', 'in', 'itsravishing', 'ownwritings', 'tocompress', 'thelatter', 'occupied', 'asubstance', 'fatiguing', 'listen', 'movement', 'enter', 'natureit', 'thecommunication', 'returnfrom', 'madeup', 'while', 'restrained', 'undertake', 'oflower', 'themselvesof', 'past', 'fable', 'wasneed', 'denominated', 'acquainted.the', 'thirst', 'instability', 'knowing', 'extricate', 'emperor', 'all-powerful', 'bemyself', 'observed', 'flattering', 'five', 'alwaysmore', 'pang', 'over', 'mindall', 'andsequence.and', 'corrected', 'with-the', 'received', 'together', 'avoid', 'report', 'result', 'satisfactorily', 'locality', 'tosubjoin', 'toanimals', 'home', 'abounding', 'receive', 'kept', 'lookingat', 'fromreaching', 'theground', 'metwith', 'perfectionin', 'chancerather', 'restricting', 'evenalthough', 'phenomenon', 'body', 'take', '--', 'attend', 'geometry', 'supposition', 'sort', 'manymen', 'acuteness', 'taken', 'found', 'orsuperfluous', 'toanother', 'discretion', 'equally', 'andirregularity', 'pull', 'whollydifferent', 'amid', 'rest.and', 'skillful', 'whocan', 'itsuch', 'ought', 'among', 'ofexperiments', 'markedout', 'consider', 'held', 'esteeming', 'curiosity', 'plan', 'inquired', 'exempt', 'precipices.hence', 'iknew', 'qualitiesthat', 'principle', 'enableme', 'leftcavity', 'reform', 'competent', 'sway', 'round', 'ill-spoken', 'othermen', 'no', 'besidesthis', 'surface', 'selection', 'designs.and', 'naturallybe', 'wasreturning', 'making', 'direction', 'cancause', 'beingnecessitated', 'who', 'interestin', 'somuch', 'methodwhich', 'accustom', 'anydemonstration', 'theaction', 'knight-errant', 'winter', 'thusindifferent', 'what', 'conflictingopinions', 'and', 'thereforerecommend', 'retired', 'bite', 'reject', 'accepted', 'slow', 'performer', 'caveinto', 'pass', 'water', 'towards', 'ignorant', 'toimitate', 'theirs', 'allits', 'exhortation', 'accordingly', 'reviewing', 'they', 'nerve', 'astonishedthat', 'oughtfor', 'tofollow', 'writingbooks', 'motion', 'judge', 'massed', 'beaten', 'chaos', 'spending', 'devote', 'east', 'intelligence', 'create', 'preceptor', 'attendant', 'comet', 'transparent', 'river', 'remark', 'particularmatter', 'theconclusion', 'raise', 'fabric', 'specimen', 'owing', 'thatit', 'areesteemed', 'beheld', 'assurance', 'rooted', 'willingly', 'believe', 'judgingaright', 'concluded', 'observation', 'arefrom', 'thisphilosophy', 'ownthoughts', 'whichour', 'opinion', 'the', 'reaped', 'causing', 'insuperstition', 'learn', 'due', 'knownthe', 'amount', 'thatis', 'men', 'forlife', 'includes', 'exhibit', 'liable', 'being', 'confound', 'mindthere', 'ibelieved', 'theway', 'ofsatisfaction', 'havenever', 'mostmoderate', 'skill', 'fromlistening', 'wererendered', 'god', 'resolve', 'published', 'whoare', 'excess', 'starting', 'engagementswhere', 'testifying', 'muchrespecting', 'beequal', 'determinate', 'proper', 'stranger', 'groundof', 'themindividually', 'worthless', 'bettering', 'opening', 'forwardthrough', 'caseapart', 'extreme', 'probable.as', 'constitution', 'man.of', 'dependent', 'estimable', 'attempted', 'spared', 'ifound', 'ours', 'anda', 'thenceforward', 'restless', 'doings', 'never', 'controversy', 'earned', 'conducted', 'earth', 'serve', 'weaker', 'help', 'continue', 'constitutes', 'climbing', 'sosmooth', 'asleep', 'consistency', 'permitted', 'necessity', 'remorse', 'certainknowledge', 'publish', 'relation', 'delighted', 'adhere', 'besidesthat', 'handsbesides', 'u', 'engagedin', 'isalmost', 'adequate', 'foundationsare', 'assure', 'igood', 'shaken', 'her', 'error', 'solong', 'struck', 'andoverturning', 'thoughi', 'educing', 'view', 'apilot', 'consent', 'flourishing', 'foundwithout', 'mysingular', 'makingthe', 'wherein', 'new', 'manifest', 'neglected', 'somedepartments', 'derived', 'provide', 'themsuperior', 'anticipate', 'engages', 'if', 'hardly', 'reason.for', 'andsand', 'whocannot', 'plainlytells', 'remediesprovided', 'wasto', 'theemployments', 'action', 'sensibleobjects', 'conducta', 'admit', 'divisible', 'purely', 'maylikewise', 'enumeration', 'distinct', 'school', 'automaton', 'preferred', 'theater', 'capableof', 'constructed', 'expectation', 'subjection', 'retains', 'useless', 'often', 'rationalsoul', 'sufficientfor', 'onof', 'butcontributed', 'aline', 'dissolution', 'theselection', 'paradoxical', 'annexed', 'vain', 'brain', 'occupiedin', 'sent', 'andminute', 'youth', 'discovering', 'thesewhenever', 'theology', 'asthe', 'isnot', 'tied', 'wander', 'sign', 'absolute', 'dissected', 'refer', 'compensein', 'womb', 'andfrequently', 'godhas', 'medicine', 'arrange', 'vi', 'die', 'solid', 'allthe', 'algebra', 'moon', 'toprocure', 'prove', 'hispurpose', 'theconviction', 'asbefore', 'thevirtues', 'miracle', 'correspond', 'severance', 'familiar', 'worthy', 'appears', 'expect', 'steadfastly', 'nevertheless', 'thusafforded', 'togeometrical', 'thatthey', 'actually', 'moreover', 'theshortness', 'tobestow', 'ofobservation', 'read', 'repeatedthem', 'boasting', 'management', 'analysis', 'actor', 'inferior', 'mathematical', 'firm', 'endeavor', 'rarefied', 'humanbody', 'relates', 'choicest', 'veryample', 'ofletters.these', 'ithas', 'rule', 'world', 'forit', 'andlively', 'ridding', 'availed', 'theirhistories', 'dark', 'equitable', 'production', 'colored', 'rapidly', 'publishthem', 'ori', 'profession', 'theorder', 'most', 'possess', 'experience', 'orbodies', 'intreatises', 'meet', 'were', 'applyit', 'intoeach', 'howeverdifferent', 'malady', 'icannot', 'law', 'differently', 'theimmediate', 'least', 'deduction', 'writing', 'obliged', 'curious', 'felicity', 'are.for', 'exhausted', 'observing', 'punishhim', 'apply', 'thepersians', 'expression', 'shade', 'oursare', 'publishanything', '(', 'toagitate', 'generalform', 'grace', 'thisundertaking', 'whatremains', 'covering', 'truthof', 'offigures', 'attracted', 'andbuilders', 'thepulse', 'overthrown', 'speak', 'henceforward', 'handled', 'admitsa', 'ofsuch', 'establish', 'differenthumors', 'refute', 'morecomplex', 'imprisonment', 'hadshown', 'isone', 'fancied', 'solelyupon', 'ido', 'irrational', 'settingin', 'attainment', 'wasnothing', 'distinguish', 'imperfectionsin', 'erroneous', 'howthis', 'whatthe', 'living', 'see', 'rapture', 'craft', 'furtherdictates', 'toprevent', 'ignorant.for', 'unableto', 'merely', 'fuller', 'wasa', 'alike', 'hold', 'entirely', 'slowly', 'anew', 'moreworlds', 'mentioned', 'unseasonable', 'andfarther', 'rational', 'glass', 'street', 'contain', 'arm', 'topermit', 'theheat', 'heis', 'still', 'afterwards', 'changenecessary', 'adisposition', 'lion', 'manyare', 'alone', 'darkenour', 'indiscovering', 'exercise', 'toexpress', 'sufficiently', 'delay', 'decidedly', 'sensitivesoul', 'primary', 'encounter', 'expediency', 'adduced', 'an', 'contributing', 'acquainted', 'away', 'rulesi', 'far', 'entertaining', 'fortune', 'nordoes', 'discredit', 'whichis', 'taste', 'abandoned', 'according', 'suspect', 'provesnot', 'contemplated', 'tosuspend', 'confusion', 'proceeded', 'advisable', 'circumspection', 'envied', 'state.from', 'persuasion', 'seemed', 'theywill', 'practice', 'ithink', 'such', 'singly', 'newmatte', 'wanting', 'towering', 'fault', 'look', 'took', 'habit', 'andafterwards', 'affection', 'isdivided', 'occurrence', 'suited', 'pay', 'finally', 'feeling', 'thread', 'absurd', 'publicity', 'andlarger', 'pride', 'progress', 'wide', 'orsense', 'examining', 'theextravagances', 'theirreal', 'certainty', 'ismanifestly', 'vesselsfrom', 'tomake', 'hearing', 'accept', 'bereadily', 'scarce', 'ifwe', 'adoptedthe', 'tosurmount', 'iavailed', 'elapsed', 'similarvictories', 'vegetative', 'makemerchandise', 'precept', 'havenone', 'prevailedamong', 'vithree', 'hadsaid', 'poesy', 'side', 'ignorance', 'differentfrom', 'entertain', 'communicated', 'heard', 'otherparts', 'well', 'ii', 'other.also', 'entered', 'wassetting', 'regularity', 'lastthree', 'examine', 'influence', 'muchconfidence', 'fire', 'straightpath', 'thenext', 'vanity', 'aspossessed', '_second_', 'perceive', 'thisi', 'hispeople', 'write', 'more.but', 'goon', 'corruption', 'promote', 'effectual', 'experienced', 'several', 'flowing', 'theyplease', 'dilate', 'comprised', 'physician', 'haddiscovered', 'opportunity', 'exerciseof', 'stillin', 'qualified', 'heartwere', 'require', 'satisfied', 'whichshall', 'andof', 'quality', 'study', 'ingenious', 'specific', 'rank', 'anxiety', 'grade', 'comprehended', 'straighter', 'remarked', 'moderate', 'cavityin', 'imagined', 'animal', 'reality', 'objected', 'hesays', 'rise', 'regarding', 'ash', 'apathy', 'supposedthat', 'onany', 'whichallow', 'question', 'advocate', 'amagician', 'timecarefully', 'eventhe', 'imitation', 'tobelieve.i', 'icould', 'recognize', 'void', 'persuaded', 'reason', 'toothers', 'surmounted', 'fallen', 'neither', 'themin', 'meanest', 'andimportant', 'accurate', 'itsrise', 'throughwhich', 'manhood', 'andtheir', 'atthat', 'hoped', 'receptacle', 'disapproved', 'itis', 'distributing', 'certainsigns', 'abstract', 'falsityor', 'principlesfrom', 'narrative', 'natural', 'aboutto', 'anoval', 'thatpasses', 'measureconstrained', 'foundationwholly', 'warming', 'couldbe', 'happy', 'distaste', 'byshowing', 'shape', 'following', 'during', 'andalso', 'ofnegation', 'contradiction', 'beclosed', 'andfinally', 'lengthof', 'germ', 'occasion', 'europe', 'write.part', 'whichsagacity', 'composed', 'deduce', 'contrary', 'rare', 'pertaining', 'fixed', 'subtle', 'guidance', 'somean', 'mud', 'reasoningsare', 'publication', 'andthose', 'whenits', 'entire', 'juxtaposition', 'since', 'eloquence', 'commodiously', 'isgenerally', 'concern', 'accordingto', 'little', 'desire', 'light', 'ofgrain', 'militateagainst', 'disposition', 'name', 'chosen', '’', 'favor', 'hadalready', 'inmedicine', 'aforest', 'find', 'seeing', 'thediscovery', 'persuade', 'learned', 'usuallyin', 'vapor', 'beenabled', 'keepalways', 'fine', 'numerous', 'alive', 'whichseveral', 'could', 'acknowledged', 'sweep', 'itscounterweights', 'sufficientleisure', 'awanting', 'esteem', 'conquer', 'bloodwhich', 'history', 'discourse', 'certain', 'own', 'mesome', 'fitted', 'forasmuch', 'doso', 'attentively', 'absence', 'reasonwhich', 'destitute', 'three', 'fear', 'fixedstars', 'censure', 'besides', 'afraid', 'mostskillfully', 'against', 'inability', 'graduallyhabituated', 'withall', 'writingspossess', 'declare', 'within', 'indisease', 'design', 'germany', 'plantsgrow', 'theirpossession', 'mention', 'admitof', 'prefatory', 'disastrous', 'difficultyset', 'easy', 'nation', 'incomparably', 'theysaid', 'heremake', 'degree', 'numeroushighly', 'gain', 'administered', 'feeble', 'thisway', 'ashe', 'account', 'everyoccasion', 'know', 'bettersucceed', 'village', 'derivethe', 'approach', 'met', 'thingto', 'rather', 'sometimesdeceive', 'recover', 'becomethick', 'suppose', 'somewhat', 'pure', 'partiality', 'topass', 'capacity', 'choose', 'privateuse', 'indifferent', 'amanner', 'thereupon', 'thenumbers', 'actof', 'prolix', 'reading', 'ability', 'ever', 'earliest', 'tothe', 'informing', 'majorityof', 'refraining', 'themembers', 'existed', 'variously', 'orifice', 'reserved', 'evince', 'breadth', 'extravagant', 'desired', 'number', 'andair', 'affectionscan', 'thecondition', 'conformable', 'themmany', 'wind', 'mendingthem', 'opinionsof', 'thestars', 'conceived', 'containsfrom', 'thiswould', 'nolonger', 'discoveredis', 'anything', 'regulating', 'length', 'traveling', 'yetbe', 'thiswe', 'underthe', 'put', 'ofall', 'year', 'asheads', 'treatise', 'confidence', 'forpurposes', 'understandingrepresents', 'rarely', 'obnoxious', 'thinkof', 'giving', 'goat', 'hundred', 'entertained', 'leaned', 'withfreedom', 'arealmost', 'hesitate', 'heart', 'rebuilding', 'obscurity', 'viz.', 'reserve', 'facilitate', 'turning', 'earthwater', 'wing', 'certainof', 'repute', 'whilst', 'whenpersons', 'wider', 'prescribed', 'veryworthy', 'whichflows', 'whereby', 'firmly', 'disentangle', 'sum', 'myjudgments', 'permitengagements', 'even', 'remedy', 'situation', 'tothose', 'lookupon', 'complete', 'induced', 'changed', 'secure', 'tocivilization', 'designate', 'recurring', 'ofthis', 'deemedit', 'thebody', 'felt', 'accustoming', 'thatafter', 'conceivedit', 'andindependently', 'mostevident', 'constituted', 'fourth', 'majority', 'joinedto', 'fabricated', 'suspicion', 'reputation', 'thepossibility', 'andexecuted', 'insome', 'ofdispute', 'myprinciples', 'moment', 'whatthey', 'proceed', 'drop', 'notappear', 'distance', 'canalsin', 'assured', 'minuteness', 'those', 'army', 'nointention', 'leisure', 'adjust', 'dispose', 'embroiled', 'comethither', 'assent', 'needed', 'thoughtit', 'verycircumstance', 'malignancy', 'andability', 'ofno', 'difficulty', 'deathmay', 'ofany', 'whatchanges', 'say', 'judgement', 'nottoo', 'books.part', 'aristotlewould', 'cavity', 'perceived', 'would', 'inquisitive', 'human', 'bywhich', 'thenine', 'dry', 'proposition', 'hadrepresented', 'continuing', 'subjectof', 'glad', 'follow', 'unprejudiced', 'belong', 'compounded', '?', 'ofman', 'originated', 'dreaming', 'stir', 'sensible', 'everyother', 'tight', 'cry', 'flowingin', 'formed', 'same', 'practicalmoment', 'whoever', 'anintensely', 'lord', 'grandartery', 'godis'}\n"
     ]
    }
   ],
   "source": [
    "print(unique_tokens)"
   ]
  },
  {
   "cell_type": "code",
   "execution_count": 13,
   "metadata": {},
   "outputs": [],
   "source": [
    "#Embedding the tokens with Gensim and Word2Vec"
   ]
  },
  {
   "cell_type": "code",
   "execution_count": 15,
   "metadata": {},
   "outputs": [],
   "source": [
    "from gensim.models import Word2Vec\n",
    "\n",
    "#train word2vec model\n",
    "model = Word2Vec([tokens], compute_loss=True, vector_size=300, min_count=1)\n",
    "\n",
    "#save the model\n",
    "model.save(\"descartes_word2vec.model\")"
   ]
  },
  {
   "cell_type": "code",
   "execution_count": 16,
   "metadata": {},
   "outputs": [],
   "source": [
    "#Model description"
   ]
  },
  {
   "cell_type": "code",
   "execution_count": null,
   "metadata": {},
   "outputs": [],
   "source": [
    "from IPython.display import display\n",
    "import ipywidgets as widgets\n",
    "\n",
    "model = Word2Vec.load(\"descartes_word2vec.model\")\n",
    "\n",
    "attr_widget = widgets.Dropdown(\n",
    "    options=['wv', 'vector_size', 'train_count', 'total_train_time',\n",
    "             'epochs', 'sg']\n",
    "    value='wv',\n",
    "    description='Attribute:',\n",
    ")\n",
    "\n",
    "display(attr_widget)\n",
    "\n",
    "\n",
    "num_lines-widget = widgets.IntSlider("
   ]
  }
 ],
 "metadata": {
  "kernelspec": {
   "display_name": "base",
   "language": "python",
   "name": "python3"
  },
  "language_info": {
   "codemirror_mode": {
    "name": "ipython",
    "version": 3
   },
   "file_extension": ".py",
   "mimetype": "text/x-python",
   "name": "python",
   "nbconvert_exporter": "python",
   "pygments_lexer": "ipython3",
   "version": "3.12.7"
  }
 },
 "nbformat": 4,
 "nbformat_minor": 2
}
